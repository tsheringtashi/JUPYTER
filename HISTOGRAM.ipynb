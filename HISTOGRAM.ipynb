{
 "cells": [
  {
   "cell_type": "code",
   "execution_count": 1,
   "metadata": {},
   "outputs": [],
   "source": [
    "import pandas as pd\n",
    "import matplotlib.pyplot as plt\n",
    "%matplotlib inline"
   ]
  },
  {
   "cell_type": "code",
   "execution_count": 6,
   "metadata": {},
   "outputs": [],
   "source": [
    "#ls"
   ]
  },
  {
   "cell_type": "code",
   "execution_count": 7,
   "metadata": {},
   "outputs": [],
   "source": [
    "df = pd.read_csv('countries.csv')"
   ]
  },
  {
   "cell_type": "code",
   "execution_count": 21,
   "metadata": {},
   "outputs": [
    {
     "data": {
      "text/plain": [
       "Africa      624\n",
       "Asia        396\n",
       "Europe      360\n",
       "Americas    300\n",
       "Oceania      24\n",
       "Name: continent, dtype: int64"
      ]
     },
     "execution_count": 21,
     "metadata": {},
     "output_type": "execute_result"
    }
   ],
   "source": [
    "df['continent'].value_counts()"
   ]
  },
  {
   "cell_type": "code",
   "execution_count": 8,
   "metadata": {},
   "outputs": [
    {
     "data": {
      "text/plain": [
       "Index(['country', 'continent', 'fyear', 'lifeExpectancy', 'population',\n",
       "       'gdpPerCapita'],\n",
       "      dtype='object')"
      ]
     },
     "execution_count": 8,
     "metadata": {},
     "output_type": "execute_result"
    }
   ],
   "source": [
    "df.columns"
   ]
  },
  {
   "cell_type": "code",
   "execution_count": 9,
   "metadata": {},
   "outputs": [],
   "source": [
    "df_2007 = df[df['fyear'] == 2007]"
   ]
  },
  {
   "cell_type": "code",
   "execution_count": 10,
   "metadata": {},
   "outputs": [],
   "source": [
    "asia_2007 = df_2007[df_2007['continent']=='Asia']\n",
    "europe_2007 = df_2007[df_2007['continent']=='Europe']"
   ]
  },
  {
   "cell_type": "code",
   "execution_count": 12,
   "metadata": {},
   "outputs": [
    {
     "data": {
      "image/png": "[encoded data removed]",
      "text/plain": [
       "<Figure size 432x288 with 2 Axes>"
      ]
     },
     "metadata": {
      "needs_background": "light"
     },
     "output_type": "display_data"
    }
   ],
   "source": [
    "plt.subplot(2,1,1)\n",
    "plt.title('GDP Per Capita')\n",
    "plt.hist(asia_2007['gdpPerCapita'],20, range=(0,50000),edgecolor = 'White')\n",
    "plt.ylabel('Asia')\n",
    "plt.subplot(2,1,2)\n",
    "plt.hist(europe_2007['gdpPerCapita'], 20, range=(0,50000), edgecolor = 'Black')\n",
    "plt.ylabel('Europe');"
   ]
  },
  {
   "cell_type": "markdown",
   "metadata": {},
   "source": [
    "### Compare Life Expectancy of Europe and America in 1997?"
   ]
  },
  {
   "cell_type": "code",
   "execution_count": 13,
   "metadata": {},
   "outputs": [],
   "source": [
    "df_1997 = df[df['fyear']== 1997]"
   ]
  },
  {
   "cell_type": "code",
   "execution_count": 14,
   "metadata": {},
   "outputs": [],
   "source": [
    "Europe_1997 = df_1997[df_1997['continent']=='Europe']\n",
    "America_1997 = df_1997[df_1997['continent']=='Americas']"
   ]
  },
  {
   "cell_type": "code",
   "execution_count": 15,
   "metadata": {},
   "outputs": [
    {
     "data": {
      "text/plain": [
       "array(['Asia', 'Europe', 'Africa', 'Americas', 'Oceania'], dtype=object)"
      ]
     },
     "execution_count": 15,
     "metadata": {},
     "output_type": "execute_result"
    }
   ],
   "source": [
    "df['continent'].unique()"
   ]
  },
  {
   "cell_type": "code",
   "execution_count": 17,
   "metadata": {
    "scrolled": true
   },
   "outputs": [
    {
     "name": "stdout",
     "output_type": "stream",
     "text": [
      "30\n",
      "25\n"
     ]
    },
    {
     "data": {
      "text/plain": [
       "30"
      ]
     },
     "execution_count": 17,
     "metadata": {},
     "output_type": "execute_result"
    }
   ],
   "source": [
    "print(len(set(Europe_1997['country'])))\n",
    "print(len(set(America_1997['country'])))\n",
    "len(Europe_1997['country'])"
   ]
  },
  {
   "cell_type": "code",
   "execution_count": 30,
   "metadata": {},
   "outputs": [
    {
     "name": "stdout",
     "output_type": "stream",
     "text": [
      "mean lifeExpectancy of Europe\n",
      "76\n",
      "mean lifeExpectancy of America\n",
      "71\n",
      "median lifeExpectancy of Europe\n",
      "76\n",
      "median lifeExpectancy of America\n",
      "72\n"
     ]
    }
   ],
   "source": [
    "print('mean lifeExpectancy of Europe')\n",
    "print(round(Europe_1997['lifeExpectancy'].mean()))\n",
    "print('mean lifeExpectancy of America')\n",
    "print(round(America_1997['lifeExpectancy'].mean()))\n",
    "print('median lifeExpectancy of Europe')\n",
    "print(round(Europe_1997['lifeExpectancy'].median()))\n",
    "print('median lifeExpectancy of America')\n",
    "print(round(America_1997['lifeExpectancy'].median()))"
   ]
  },
  {
   "cell_type": "code",
   "execution_count": 34,
   "metadata": {},
   "outputs": [
    {
     "data": {
      "image/png": "[encoded data removed]",
      "text/plain": [
       "<Figure size 432x288 with 2 Axes>"
      ]
     },
     "metadata": {
      "needs_background": "light"
     },
     "output_type": "display_data"
    }
   ],
   "source": [
    "#subplot (2,1,1) meaning create 2 rows and 1 column and select 1st.\n",
    "plt.subplot(2,1,1)\n",
    "plt.title('LifeExpectancy in 1997')\n",
    "plt.hist(Europe_1997['lifeExpectancy'],10, range = (55,85),edgecolor = 'White')\n",
    "plt.ylabel('Europe')\n",
    "\n",
    "#subplot (2,1,2) meaning create 2 rows and 1 column and select 2nd.\n",
    "plt.subplot(2,1,2)\n",
    "plt.hist(America_1997['lifeExpectancy'],10, range = (55,85), edgecolor = 'Red')\n",
    "plt.ylabel('America');"
   ]
  },
  {
   "cell_type": "code",
   "execution_count": 41,
   "metadata": {},
   "outputs": [
    {
     "data": {
      "text/plain": [
       "141    Bolivia\n",
       "645      Haiti\n",
       "Name: country, dtype: object"
      ]
     },
     "execution_count": 41,
     "metadata": {},
     "output_type": "execute_result"
    }
   ],
   "source": [
    "America_1997[America_1997['lifeExpectancy']<65]['country']"
   ]
  },
  {
   "cell_type": "code",
   "execution_count": 43,
   "metadata": {},
   "outputs": [
    {
     "data": {
      "text/html": [
       "<div>\n",
       "<style scoped>\n",
       "    .dataframe tbody tr th:only-of-type {\n",
       "        vertical-align: middle;\n",
       "    }\n",
       "\n",
       "    .dataframe tbody tr th {\n",
       "        vertical-align: top;\n",
       "    }\n",
       "\n",
       "    .dataframe thead th {\n",
       "        text-align: right;\n",
       "    }\n",
       "</style>\n",
       "<table border=\"1\" class=\"dataframe\">\n",
       "  <thead>\n",
       "    <tr style=\"text-align: right;\">\n",
       "      <th></th>\n",
       "      <th>country</th>\n",
       "      <th>continent</th>\n",
       "      <th>fyear</th>\n",
       "      <th>lifeExpectancy</th>\n",
       "      <th>population</th>\n",
       "      <th>gdpPerCapita</th>\n",
       "    </tr>\n",
       "  </thead>\n",
       "  <tbody>\n",
       "    <tr>\n",
       "      <th>0</th>\n",
       "      <td>Afghanistan</td>\n",
       "      <td>Asia</td>\n",
       "      <td>1952</td>\n",
       "      <td>28.801</td>\n",
       "      <td>8425333</td>\n",
       "      <td>779.445314</td>\n",
       "    </tr>\n",
       "  </tbody>\n",
       "</table>\n",
       "</div>"
      ],
      "text/plain": [
       "       country continent  fyear  lifeExpectancy  population  gdpPerCapita\n",
       "0  Afghanistan      Asia   1952          28.801     8425333    779.445314"
      ]
     },
     "execution_count": 43,
     "metadata": {},
     "output_type": "execute_result"
    }
   ],
   "source": [
    "df.head(1)"
   ]
  },
  {
   "cell_type": "code",
   "execution_count": 26,
   "metadata": {},
   "outputs": [],
   "source": [
    "flights =  pd.read_csv(r'C:\\Users\\UPAHAR\\Desktop\\PYTHON\\flight_delays.csv')"
   ]
  },
  {
   "cell_type": "code",
   "execution_count": 29,
   "metadata": {},
   "outputs": [
    {
     "data": {
      "text/html": [
       "<div>\n",
       "<style scoped>\n",
       "    .dataframe tbody tr th:only-of-type {\n",
       "        vertical-align: middle;\n",
       "    }\n",
       "\n",
       "    .dataframe tbody tr th {\n",
       "        vertical-align: top;\n",
       "    }\n",
       "\n",
       "    .dataframe thead th {\n",
       "        text-align: right;\n",
       "    }\n",
       "</style>\n",
       "<table border=\"1\" class=\"dataframe\">\n",
       "  <thead>\n",
       "    <tr style=\"text-align: right;\">\n",
       "      <th></th>\n",
       "      <th>Month</th>\n",
       "      <th>AA</th>\n",
       "      <th>AS</th>\n",
       "      <th>B6</th>\n",
       "      <th>DL</th>\n",
       "      <th>EV</th>\n",
       "      <th>F9</th>\n",
       "      <th>HA</th>\n",
       "      <th>MQ</th>\n",
       "      <th>NK</th>\n",
       "      <th>OO</th>\n",
       "      <th>UA</th>\n",
       "      <th>US</th>\n",
       "      <th>VX</th>\n",
       "      <th>WN</th>\n",
       "    </tr>\n",
       "  </thead>\n",
       "  <tbody>\n",
       "    <tr>\n",
       "      <th>6</th>\n",
       "      <td>7</td>\n",
       "      <td>3.870440</td>\n",
       "      <td>0.377408</td>\n",
       "      <td>5.841454</td>\n",
       "      <td>1.204862</td>\n",
       "      <td>6.926421</td>\n",
       "      <td>14.464543</td>\n",
       "      <td>2.001586</td>\n",
       "      <td>3.980289</td>\n",
       "      <td>14.352382</td>\n",
       "      <td>6.790333</td>\n",
       "      <td>10.262551</td>\n",
       "      <td>NaN</td>\n",
       "      <td>7.135773</td>\n",
       "      <td>10.504942</td>\n",
       "    </tr>\n",
       "    <tr>\n",
       "      <th>7</th>\n",
       "      <td>8</td>\n",
       "      <td>3.193907</td>\n",
       "      <td>2.503899</td>\n",
       "      <td>9.280950</td>\n",
       "      <td>0.653114</td>\n",
       "      <td>5.154422</td>\n",
       "      <td>9.175737</td>\n",
       "      <td>7.448029</td>\n",
       "      <td>1.896565</td>\n",
       "      <td>20.519018</td>\n",
       "      <td>5.606689</td>\n",
       "      <td>5.014041</td>\n",
       "      <td>NaN</td>\n",
       "      <td>5.106221</td>\n",
       "      <td>5.532108</td>\n",
       "    </tr>\n",
       "    <tr>\n",
       "      <th>8</th>\n",
       "      <td>9</td>\n",
       "      <td>-1.432732</td>\n",
       "      <td>-1.813800</td>\n",
       "      <td>3.539154</td>\n",
       "      <td>-3.703377</td>\n",
       "      <td>0.851062</td>\n",
       "      <td>0.978460</td>\n",
       "      <td>3.696915</td>\n",
       "      <td>-2.167268</td>\n",
       "      <td>8.000101</td>\n",
       "      <td>1.530896</td>\n",
       "      <td>-1.794265</td>\n",
       "      <td>NaN</td>\n",
       "      <td>0.070998</td>\n",
       "      <td>-1.336260</td>\n",
       "    </tr>\n",
       "    <tr>\n",
       "      <th>9</th>\n",
       "      <td>10</td>\n",
       "      <td>-0.580930</td>\n",
       "      <td>-2.993617</td>\n",
       "      <td>3.676787</td>\n",
       "      <td>-5.011516</td>\n",
       "      <td>2.303760</td>\n",
       "      <td>0.082127</td>\n",
       "      <td>0.467074</td>\n",
       "      <td>-3.735054</td>\n",
       "      <td>6.810736</td>\n",
       "      <td>1.750897</td>\n",
       "      <td>-2.456542</td>\n",
       "      <td>NaN</td>\n",
       "      <td>2.254278</td>\n",
       "      <td>-0.688851</td>\n",
       "    </tr>\n",
       "    <tr>\n",
       "      <th>10</th>\n",
       "      <td>11</td>\n",
       "      <td>0.772630</td>\n",
       "      <td>-1.916516</td>\n",
       "      <td>1.418299</td>\n",
       "      <td>-3.175414</td>\n",
       "      <td>4.415930</td>\n",
       "      <td>11.164527</td>\n",
       "      <td>-2.719894</td>\n",
       "      <td>0.220061</td>\n",
       "      <td>7.543881</td>\n",
       "      <td>4.925548</td>\n",
       "      <td>0.281064</td>\n",
       "      <td>NaN</td>\n",
       "      <td>0.116370</td>\n",
       "      <td>0.995684</td>\n",
       "    </tr>\n",
       "    <tr>\n",
       "      <th>11</th>\n",
       "      <td>12</td>\n",
       "      <td>4.149684</td>\n",
       "      <td>-1.846681</td>\n",
       "      <td>13.839290</td>\n",
       "      <td>2.504595</td>\n",
       "      <td>6.685176</td>\n",
       "      <td>9.346221</td>\n",
       "      <td>-1.706475</td>\n",
       "      <td>0.662486</td>\n",
       "      <td>12.733123</td>\n",
       "      <td>10.947612</td>\n",
       "      <td>7.012079</td>\n",
       "      <td>NaN</td>\n",
       "      <td>13.498720</td>\n",
       "      <td>6.720893</td>\n",
       "    </tr>\n",
       "  </tbody>\n",
       "</table>\n",
       "</div>"
      ],
      "text/plain": [
       "    Month        AA        AS         B6        DL        EV         F9  \\\n",
       "6       7  3.870440  0.377408   5.841454  1.204862  6.926421  14.464543   \n",
       "7       8  3.193907  2.503899   9.280950  0.653114  5.154422   9.175737   \n",
       "8       9 -1.432732 -1.813800   3.539154 -3.703377  0.851062   0.978460   \n",
       "9      10 -0.580930 -2.993617   3.676787 -5.011516  2.303760   0.082127   \n",
       "10     11  0.772630 -1.916516   1.418299 -3.175414  4.415930  11.164527   \n",
       "11     12  4.149684 -1.846681  13.839290  2.504595  6.685176   9.346221   \n",
       "\n",
       "          HA        MQ         NK         OO         UA  US         VX  \\\n",
       "6   2.001586  3.980289  14.352382   6.790333  10.262551 NaN   7.135773   \n",
       "7   7.448029  1.896565  20.519018   5.606689   5.014041 NaN   5.106221   \n",
       "8   3.696915 -2.167268   8.000101   1.530896  -1.794265 NaN   0.070998   \n",
       "9   0.467074 -3.735054   6.810736   1.750897  -2.456542 NaN   2.254278   \n",
       "10 -2.719894  0.220061   7.543881   4.925548   0.281064 NaN   0.116370   \n",
       "11 -1.706475  0.662486  12.733123  10.947612   7.012079 NaN  13.498720   \n",
       "\n",
       "           WN  \n",
       "6   10.504942  \n",
       "7    5.532108  \n",
       "8   -1.336260  \n",
       "9   -0.688851  \n",
       "10   0.995684  \n",
       "11   6.720893  "
      ]
     },
     "execution_count": 29,
     "metadata": {},
     "output_type": "execute_result"
    }
   ],
   "source": [
    "flights[pd.isnull(flights['US'])]"
   ]
  },
  {
   "cell_type": "code",
   "execution_count": 31,
   "metadata": {},
   "outputs": [],
   "source": [
    "flights['US'].fillna('unknown', inplace = True)"
   ]
  },
  {
   "cell_type": "code",
   "execution_count": 32,
   "metadata": {},
   "outputs": [
    {
     "data": {
      "text/html": [
       "<div>\n",
       "<style scoped>\n",
       "    .dataframe tbody tr th:only-of-type {\n",
       "        vertical-align: middle;\n",
       "    }\n",
       "\n",
       "    .dataframe tbody tr th {\n",
       "        vertical-align: top;\n",
       "    }\n",
       "\n",
       "    .dataframe thead th {\n",
       "        text-align: right;\n",
       "    }\n",
       "</style>\n",
       "<table border=\"1\" class=\"dataframe\">\n",
       "  <thead>\n",
       "    <tr style=\"text-align: right;\">\n",
       "      <th></th>\n",
       "      <th>Month</th>\n",
       "      <th>AA</th>\n",
       "      <th>AS</th>\n",
       "      <th>B6</th>\n",
       "      <th>DL</th>\n",
       "      <th>EV</th>\n",
       "      <th>F9</th>\n",
       "      <th>HA</th>\n",
       "      <th>MQ</th>\n",
       "      <th>NK</th>\n",
       "      <th>OO</th>\n",
       "      <th>UA</th>\n",
       "      <th>US</th>\n",
       "      <th>VX</th>\n",
       "      <th>WN</th>\n",
       "    </tr>\n",
       "  </thead>\n",
       "  <tbody>\n",
       "    <tr>\n",
       "      <th>0</th>\n",
       "      <td>1</td>\n",
       "      <td>6.955843</td>\n",
       "      <td>-0.320888</td>\n",
       "      <td>7.347281</td>\n",
       "      <td>-2.043847</td>\n",
       "      <td>8.537497</td>\n",
       "      <td>18.357238</td>\n",
       "      <td>3.512640</td>\n",
       "      <td>18.164974</td>\n",
       "      <td>11.398054</td>\n",
       "      <td>10.889894</td>\n",
       "      <td>6.352729</td>\n",
       "      <td>3.10746</td>\n",
       "      <td>1.420702</td>\n",
       "      <td>3.389466</td>\n",
       "    </tr>\n",
       "    <tr>\n",
       "      <th>1</th>\n",
       "      <td>2</td>\n",
       "      <td>7.530204</td>\n",
       "      <td>-0.782923</td>\n",
       "      <td>18.657673</td>\n",
       "      <td>5.614745</td>\n",
       "      <td>10.417236</td>\n",
       "      <td>27.424179</td>\n",
       "      <td>6.029967</td>\n",
       "      <td>21.301627</td>\n",
       "      <td>16.474466</td>\n",
       "      <td>9.588895</td>\n",
       "      <td>7.260662</td>\n",
       "      <td>7.11446</td>\n",
       "      <td>7.784410</td>\n",
       "      <td>3.501363</td>\n",
       "    </tr>\n",
       "    <tr>\n",
       "      <th>2</th>\n",
       "      <td>3</td>\n",
       "      <td>6.693587</td>\n",
       "      <td>-0.544731</td>\n",
       "      <td>10.741317</td>\n",
       "      <td>2.077965</td>\n",
       "      <td>6.730101</td>\n",
       "      <td>20.074855</td>\n",
       "      <td>3.468383</td>\n",
       "      <td>11.018418</td>\n",
       "      <td>10.039118</td>\n",
       "      <td>3.181693</td>\n",
       "      <td>4.892212</td>\n",
       "      <td>3.33079</td>\n",
       "      <td>5.348207</td>\n",
       "      <td>3.263341</td>\n",
       "    </tr>\n",
       "    <tr>\n",
       "      <th>3</th>\n",
       "      <td>4</td>\n",
       "      <td>4.931778</td>\n",
       "      <td>-3.009003</td>\n",
       "      <td>2.780105</td>\n",
       "      <td>0.083343</td>\n",
       "      <td>4.821253</td>\n",
       "      <td>12.640440</td>\n",
       "      <td>0.011022</td>\n",
       "      <td>5.131228</td>\n",
       "      <td>8.766224</td>\n",
       "      <td>3.223796</td>\n",
       "      <td>4.376092</td>\n",
       "      <td>2.66029</td>\n",
       "      <td>0.995507</td>\n",
       "      <td>2.996399</td>\n",
       "    </tr>\n",
       "    <tr>\n",
       "      <th>4</th>\n",
       "      <td>5</td>\n",
       "      <td>5.173878</td>\n",
       "      <td>-1.716398</td>\n",
       "      <td>-0.709019</td>\n",
       "      <td>0.149333</td>\n",
       "      <td>7.724290</td>\n",
       "      <td>13.007554</td>\n",
       "      <td>0.826426</td>\n",
       "      <td>5.466790</td>\n",
       "      <td>22.397347</td>\n",
       "      <td>4.141162</td>\n",
       "      <td>6.827695</td>\n",
       "      <td>0.681605</td>\n",
       "      <td>7.102021</td>\n",
       "      <td>5.680777</td>\n",
       "    </tr>\n",
       "    <tr>\n",
       "      <th>5</th>\n",
       "      <td>6</td>\n",
       "      <td>8.191017</td>\n",
       "      <td>-0.220621</td>\n",
       "      <td>5.047155</td>\n",
       "      <td>4.419594</td>\n",
       "      <td>13.952793</td>\n",
       "      <td>19.712951</td>\n",
       "      <td>0.882786</td>\n",
       "      <td>9.639323</td>\n",
       "      <td>35.561501</td>\n",
       "      <td>8.338477</td>\n",
       "      <td>16.932663</td>\n",
       "      <td>5.7663</td>\n",
       "      <td>5.779415</td>\n",
       "      <td>10.743462</td>\n",
       "    </tr>\n",
       "    <tr>\n",
       "      <th>6</th>\n",
       "      <td>7</td>\n",
       "      <td>3.870440</td>\n",
       "      <td>0.377408</td>\n",
       "      <td>5.841454</td>\n",
       "      <td>1.204862</td>\n",
       "      <td>6.926421</td>\n",
       "      <td>14.464543</td>\n",
       "      <td>2.001586</td>\n",
       "      <td>3.980289</td>\n",
       "      <td>14.352382</td>\n",
       "      <td>6.790333</td>\n",
       "      <td>10.262551</td>\n",
       "      <td>unknown</td>\n",
       "      <td>7.135773</td>\n",
       "      <td>10.504942</td>\n",
       "    </tr>\n",
       "    <tr>\n",
       "      <th>7</th>\n",
       "      <td>8</td>\n",
       "      <td>3.193907</td>\n",
       "      <td>2.503899</td>\n",
       "      <td>9.280950</td>\n",
       "      <td>0.653114</td>\n",
       "      <td>5.154422</td>\n",
       "      <td>9.175737</td>\n",
       "      <td>7.448029</td>\n",
       "      <td>1.896565</td>\n",
       "      <td>20.519018</td>\n",
       "      <td>5.606689</td>\n",
       "      <td>5.014041</td>\n",
       "      <td>unknown</td>\n",
       "      <td>5.106221</td>\n",
       "      <td>5.532108</td>\n",
       "    </tr>\n",
       "    <tr>\n",
       "      <th>8</th>\n",
       "      <td>9</td>\n",
       "      <td>-1.432732</td>\n",
       "      <td>-1.813800</td>\n",
       "      <td>3.539154</td>\n",
       "      <td>-3.703377</td>\n",
       "      <td>0.851062</td>\n",
       "      <td>0.978460</td>\n",
       "      <td>3.696915</td>\n",
       "      <td>-2.167268</td>\n",
       "      <td>8.000101</td>\n",
       "      <td>1.530896</td>\n",
       "      <td>-1.794265</td>\n",
       "      <td>unknown</td>\n",
       "      <td>0.070998</td>\n",
       "      <td>-1.336260</td>\n",
       "    </tr>\n",
       "    <tr>\n",
       "      <th>9</th>\n",
       "      <td>10</td>\n",
       "      <td>-0.580930</td>\n",
       "      <td>-2.993617</td>\n",
       "      <td>3.676787</td>\n",
       "      <td>-5.011516</td>\n",
       "      <td>2.303760</td>\n",
       "      <td>0.082127</td>\n",
       "      <td>0.467074</td>\n",
       "      <td>-3.735054</td>\n",
       "      <td>6.810736</td>\n",
       "      <td>1.750897</td>\n",
       "      <td>-2.456542</td>\n",
       "      <td>unknown</td>\n",
       "      <td>2.254278</td>\n",
       "      <td>-0.688851</td>\n",
       "    </tr>\n",
       "    <tr>\n",
       "      <th>10</th>\n",
       "      <td>11</td>\n",
       "      <td>0.772630</td>\n",
       "      <td>-1.916516</td>\n",
       "      <td>1.418299</td>\n",
       "      <td>-3.175414</td>\n",
       "      <td>4.415930</td>\n",
       "      <td>11.164527</td>\n",
       "      <td>-2.719894</td>\n",
       "      <td>0.220061</td>\n",
       "      <td>7.543881</td>\n",
       "      <td>4.925548</td>\n",
       "      <td>0.281064</td>\n",
       "      <td>unknown</td>\n",
       "      <td>0.116370</td>\n",
       "      <td>0.995684</td>\n",
       "    </tr>\n",
       "    <tr>\n",
       "      <th>11</th>\n",
       "      <td>12</td>\n",
       "      <td>4.149684</td>\n",
       "      <td>-1.846681</td>\n",
       "      <td>13.839290</td>\n",
       "      <td>2.504595</td>\n",
       "      <td>6.685176</td>\n",
       "      <td>9.346221</td>\n",
       "      <td>-1.706475</td>\n",
       "      <td>0.662486</td>\n",
       "      <td>12.733123</td>\n",
       "      <td>10.947612</td>\n",
       "      <td>7.012079</td>\n",
       "      <td>unknown</td>\n",
       "      <td>13.498720</td>\n",
       "      <td>6.720893</td>\n",
       "    </tr>\n",
       "  </tbody>\n",
       "</table>\n",
       "</div>"
      ],
      "text/plain": [
       "    Month        AA        AS         B6        DL         EV         F9  \\\n",
       "0       1  6.955843 -0.320888   7.347281 -2.043847   8.537497  18.357238   \n",
       "1       2  7.530204 -0.782923  18.657673  5.614745  10.417236  27.424179   \n",
       "2       3  6.693587 -0.544731  10.741317  2.077965   6.730101  20.074855   \n",
       "3       4  4.931778 -3.009003   2.780105  0.083343   4.821253  12.640440   \n",
       "4       5  5.173878 -1.716398  -0.709019  0.149333   7.724290  13.007554   \n",
       "5       6  8.191017 -0.220621   5.047155  4.419594  13.952793  19.712951   \n",
       "6       7  3.870440  0.377408   5.841454  1.204862   6.926421  14.464543   \n",
       "7       8  3.193907  2.503899   9.280950  0.653114   5.154422   9.175737   \n",
       "8       9 -1.432732 -1.813800   3.539154 -3.703377   0.851062   0.978460   \n",
       "9      10 -0.580930 -2.993617   3.676787 -5.011516   2.303760   0.082127   \n",
       "10     11  0.772630 -1.916516   1.418299 -3.175414   4.415930  11.164527   \n",
       "11     12  4.149684 -1.846681  13.839290  2.504595   6.685176   9.346221   \n",
       "\n",
       "          HA         MQ         NK         OO         UA        US         VX  \\\n",
       "0   3.512640  18.164974  11.398054  10.889894   6.352729   3.10746   1.420702   \n",
       "1   6.029967  21.301627  16.474466   9.588895   7.260662   7.11446   7.784410   \n",
       "2   3.468383  11.018418  10.039118   3.181693   4.892212   3.33079   5.348207   \n",
       "3   0.011022   5.131228   8.766224   3.223796   4.376092   2.66029   0.995507   \n",
       "4   0.826426   5.466790  22.397347   4.141162   6.827695  0.681605   7.102021   \n",
       "5   0.882786   9.639323  35.561501   8.338477  16.932663    5.7663   5.779415   \n",
       "6   2.001586   3.980289  14.352382   6.790333  10.262551   unknown   7.135773   \n",
       "7   7.448029   1.896565  20.519018   5.606689   5.014041   unknown   5.106221   \n",
       "8   3.696915  -2.167268   8.000101   1.530896  -1.794265   unknown   0.070998   \n",
       "9   0.467074  -3.735054   6.810736   1.750897  -2.456542   unknown   2.254278   \n",
       "10 -2.719894   0.220061   7.543881   4.925548   0.281064   unknown   0.116370   \n",
       "11 -1.706475   0.662486  12.733123  10.947612   7.012079   unknown  13.498720   \n",
       "\n",
       "           WN  \n",
       "0    3.389466  \n",
       "1    3.501363  \n",
       "2    3.263341  \n",
       "3    2.996399  \n",
       "4    5.680777  \n",
       "5   10.743462  \n",
       "6   10.504942  \n",
       "7    5.532108  \n",
       "8   -1.336260  \n",
       "9   -0.688851  \n",
       "10   0.995684  \n",
       "11   6.720893  "
      ]
     },
     "execution_count": 32,
     "metadata": {},
     "output_type": "execute_result"
    }
   ],
   "source": [
    "flights"
   ]
  },
  {
   "cell_type": "code",
   "execution_count": 38,
   "metadata": {},
   "outputs": [
    {
     "data": {
      "text/plain": [
       "0      3.10746\n",
       "1      7.11446\n",
       "2      3.33079\n",
       "3      2.66029\n",
       "4     0.681605\n",
       "5       5.7663\n",
       "6     no value\n",
       "7     no value\n",
       "8     no value\n",
       "9     no value\n",
       "10    no value\n",
       "11    no value\n",
       "Name: US, dtype: object"
      ]
     },
     "execution_count": 38,
     "metadata": {},
     "output_type": "execute_result"
    }
   ],
   "source": [
    "flights['US'].replace('unknown', 'no value')"
   ]
  },
  {
   "cell_type": "code",
   "execution_count": null,
   "metadata": {},
   "outputs": [],
   "source": []
  }
 ],
 "metadata": {
  "kernelspec": {
   "display_name": "Python 3",
   "language": "python",
   "name": "python3"
  },
  "language_info": {
   "codemirror_mode": {
    "name": "ipython",
    "version": 3
   },
   "file_extension": ".py",
   "mimetype": "text/x-python",
   "name": "python",
   "nbconvert_exporter": "python",
   "pygments_lexer": "ipython3",
   "version": "3.8.5"
  }
 },
 "nbformat": 4,
 "nbformat_minor": 4
}
